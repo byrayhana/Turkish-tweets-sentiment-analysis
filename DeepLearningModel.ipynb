{
 "cells": [
  {
   "cell_type": "code",
   "execution_count": 1,
   "id": "f1479076-e98f-4ab0-b7f5-89c060d9e092",
   "metadata": {},
   "outputs": [],
   "source": [
    "import pandas as pd\n",
    "import re\n",
    "import numpy as np\n",
    "from matplotlib import pyplot as plt\n",
    "import seaborn as sns\n",
    "import tensorflow as tf\n",
    "from sklearn.naive_bayes import BernoulliNB\n",
    "from sklearn.model_selection import train_test_split\n",
    "from sklearn.metrics import confusion_matrix, classification_report, f1_score\n",
    "from sklearn.svm import SVC\n",
    "from sklearn.ensemble import RandomForestClassifier, GradientBoostingClassifier\n",
    "from tensorflow.keras.preprocessing.text import Tokenizer\n",
    "from tensorflow.keras.preprocessing.sequence import pad_sequences\n",
    "from tensorflow.keras.callbacks import EarlyStopping\n",
    "from sklearn.feature_extraction.text import TfidfVectorizer, CountVectorizer\n",
    "from sklearn.model_selection import train_test_split, StratifiedKFold, cross_val_score\n",
    "import warnings\n",
    "warnings.simplefilter(action='ignore', category=FutureWarning)\n",
    "pd.set_option('display.float_format', lambda x: '%.3f' % x)"
   ]
  },
  {
   "cell_type": "code",
   "execution_count": 130,
   "id": "4e041193-0a95-407d-a39a-bd011ccd5321",
   "metadata": {},
   "outputs": [
    {
     "data": {
      "text/html": [
       "<div>\n",
       "<style scoped>\n",
       "    .dataframe tbody tr th:only-of-type {\n",
       "        vertical-align: middle;\n",
       "    }\n",
       "\n",
       "    .dataframe tbody tr th {\n",
       "        vertical-align: top;\n",
       "    }\n",
       "\n",
       "    .dataframe thead th {\n",
       "        text-align: right;\n",
       "    }\n",
       "</style>\n",
       "<table border=\"1\" class=\"dataframe\">\n",
       "  <thead>\n",
       "    <tr style=\"text-align: right;\">\n",
       "      <th></th>\n",
       "      <th>Tweet</th>\n",
       "      <th>Etiket</th>\n",
       "    </tr>\n",
       "  </thead>\n",
       "  <tbody>\n",
       "    <tr>\n",
       "      <th>0</th>\n",
       "      <td>Allah'ım çıldıracağım. Yemin ederim çıldıracağ...</td>\n",
       "      <td>kızgın</td>\n",
       "    </tr>\n",
       "    <tr>\n",
       "      <th>1</th>\n",
       "      <td>site ne zaman çalıştıda ürün stokları bitti di...</td>\n",
       "      <td>kızgın</td>\n",
       "    </tr>\n",
       "    <tr>\n",
       "      <th>2</th>\n",
       "      <td>Sebebi neydi ki diye bağıracağım şimdi az kaldı</td>\n",
       "      <td>kızgın</td>\n",
       "    </tr>\n",
       "    <tr>\n",
       "      <th>3</th>\n",
       "      <td>Black friday ne amk bu yıl çıkardınız bu bokud...</td>\n",
       "      <td>kızgın</td>\n",
       "    </tr>\n",
       "    <tr>\n",
       "      <th>4</th>\n",
       "      <td>kısa kısa cevaplar vericeksen niye yazıyorsun ...</td>\n",
       "      <td>kızgın</td>\n",
       "    </tr>\n",
       "  </tbody>\n",
       "</table>\n",
       "</div>"
      ],
      "text/plain": [
       "                                               Tweet  Etiket\n",
       "0  Allah'ım çıldıracağım. Yemin ederim çıldıracağ...  kızgın\n",
       "1  site ne zaman çalıştıda ürün stokları bitti di...  kızgın\n",
       "2    Sebebi neydi ki diye bağıracağım şimdi az kaldı  kızgın\n",
       "3  Black friday ne amk bu yıl çıkardınız bu bokud...  kızgın\n",
       "4  kısa kısa cevaplar vericeksen niye yazıyorsun ...  kızgın"
      ]
     },
     "execution_count": 130,
     "metadata": {},
     "output_type": "execute_result"
    }
   ],
   "source": [
    "df=pd.read_csv(\"TurkishTweets.csv\")\n",
    "df.head()"
   ]
  },
  {
   "cell_type": "markdown",
   "id": "abb3661b-9bd7-4f9e-aaa6-fb6a6d44982a",
   "metadata": {},
   "source": [
    "Data preprocessing"
   ]
  },
  {
   "cell_type": "code",
   "execution_count": 131,
   "id": "bb5e02a1-6e55-46e2-87cd-4f4787acb332",
   "metadata": {},
   "outputs": [
    {
     "data": {
      "text/plain": [
       "<AxesSubplot:xlabel='Etiket', ylabel='count'>"
      ]
     },
     "execution_count": 131,
     "metadata": {},
     "output_type": "execute_result"
    },
    {
     "data": {
      "image/png": "[encoded data removed]",
      "text/plain": [
       "<Figure size 432x288 with 1 Axes>"
      ]
     },
     "metadata": {
      "needs_background": "light"
     },
     "output_type": "display_data"
    }
   ],
   "source": [
    "sns.countplot(x=df.Etiket)"
   ]
  },
  {
   "cell_type": "code",
   "execution_count": 132,
   "id": "f82837a8-6588-4258-8e0c-b9a1064e7289",
   "metadata": {},
   "outputs": [
    {
     "data": {
      "text/html": [
       "<div>\n",
       "<style scoped>\n",
       "    .dataframe tbody tr th:only-of-type {\n",
       "        vertical-align: middle;\n",
       "    }\n",
       "\n",
       "    .dataframe tbody tr th {\n",
       "        vertical-align: top;\n",
       "    }\n",
       "\n",
       "    .dataframe thead th {\n",
       "        text-align: right;\n",
       "    }\n",
       "</style>\n",
       "<table border=\"1\" class=\"dataframe\">\n",
       "  <thead>\n",
       "    <tr style=\"text-align: right;\">\n",
       "      <th></th>\n",
       "      <th>Tweet</th>\n",
       "      <th>Etiket</th>\n",
       "    </tr>\n",
       "  </thead>\n",
       "  <tbody>\n",
       "    <tr>\n",
       "      <th>0</th>\n",
       "      <td>Allah'ım çıldıracağım. Yemin ederim çıldıracağ...</td>\n",
       "      <td>0</td>\n",
       "    </tr>\n",
       "    <tr>\n",
       "      <th>1</th>\n",
       "      <td>site ne zaman çalıştıda ürün stokları bitti di...</td>\n",
       "      <td>0</td>\n",
       "    </tr>\n",
       "    <tr>\n",
       "      <th>2</th>\n",
       "      <td>Sebebi neydi ki diye bağıracağım şimdi az kaldı</td>\n",
       "      <td>0</td>\n",
       "    </tr>\n",
       "    <tr>\n",
       "      <th>3</th>\n",
       "      <td>Black friday ne amk bu yıl çıkardınız bu bokud...</td>\n",
       "      <td>0</td>\n",
       "    </tr>\n",
       "    <tr>\n",
       "      <th>4</th>\n",
       "      <td>kısa kısa cevaplar vericeksen niye yazıyorsun ...</td>\n",
       "      <td>0</td>\n",
       "    </tr>\n",
       "  </tbody>\n",
       "</table>\n",
       "</div>"
      ],
      "text/plain": [
       "                                               Tweet  Etiket\n",
       "0  Allah'ım çıldıracağım. Yemin ederim çıldıracağ...       0\n",
       "1  site ne zaman çalıştıda ürün stokları bitti di...       0\n",
       "2    Sebebi neydi ki diye bağıracağım şimdi az kaldı       0\n",
       "3  Black friday ne amk bu yıl çıkardınız bu bokud...       0\n",
       "4  kısa kısa cevaplar vericeksen niye yazıyorsun ...       0"
      ]
     },
     "execution_count": 132,
     "metadata": {},
     "output_type": "execute_result"
    }
   ],
   "source": [
    "sent_dict={'kızgın':0,'korku':1,'mutlu':2,'surpriz':3,'üzgün':4}\n",
    "df[\"Etiket\"]=df[\"Etiket\"].map(sent_dict)\n",
    "df.head()"
   ]
  },
  {
   "cell_type": "code",
   "execution_count": 133,
   "id": "ff88a61d-36a0-4bef-b66c-01947a0461fb",
   "metadata": {},
   "outputs": [
    {
     "data": {
      "text/html": [
       "<div>\n",
       "<style scoped>\n",
       "    .dataframe tbody tr th:only-of-type {\n",
       "        vertical-align: middle;\n",
       "    }\n",
       "\n",
       "    .dataframe tbody tr th {\n",
       "        vertical-align: top;\n",
       "    }\n",
       "\n",
       "    .dataframe thead th {\n",
       "        text-align: right;\n",
       "    }\n",
       "</style>\n",
       "<table border=\"1\" class=\"dataframe\">\n",
       "  <thead>\n",
       "    <tr style=\"text-align: right;\">\n",
       "      <th></th>\n",
       "      <th>Tweet</th>\n",
       "      <th>Etiket</th>\n",
       "      <th>new_text</th>\n",
       "    </tr>\n",
       "  </thead>\n",
       "  <tbody>\n",
       "    <tr>\n",
       "      <th>0</th>\n",
       "      <td>Allah'ım çıldıracağım. Yemin ederim çıldıracağ...</td>\n",
       "      <td>0</td>\n",
       "      <td>allah'ım çıldıracağım  yemin ederim çıldıracağ...</td>\n",
       "    </tr>\n",
       "    <tr>\n",
       "      <th>1</th>\n",
       "      <td>site ne zaman çalıştıda ürün stokları bitti di...</td>\n",
       "      <td>0</td>\n",
       "      <td>site ne zaman çalıştıda ürün stokları bitti di...</td>\n",
       "    </tr>\n",
       "    <tr>\n",
       "      <th>2</th>\n",
       "      <td>Sebebi neydi ki diye bağıracağım şimdi az kaldı</td>\n",
       "      <td>0</td>\n",
       "      <td>sebebi neydi ki diye bağıracağım şimdi az kaldı</td>\n",
       "    </tr>\n",
       "    <tr>\n",
       "      <th>3</th>\n",
       "      <td>Black friday ne amk bu yıl çıkardınız bu bokud...</td>\n",
       "      <td>0</td>\n",
       "      <td>black friday ne amk bu yıl çıkardınız bu bokud...</td>\n",
       "    </tr>\n",
       "    <tr>\n",
       "      <th>4</th>\n",
       "      <td>kısa kısa cevaplar vericeksen niye yazıyorsun ...</td>\n",
       "      <td>0</td>\n",
       "      <td>kısa kısa cevaplar vericeksen niye yazıyorsun ...</td>\n",
       "    </tr>\n",
       "    <tr>\n",
       "      <th>...</th>\n",
       "      <td>...</td>\n",
       "      <td>...</td>\n",
       "      <td>...</td>\n",
       "    </tr>\n",
       "    <tr>\n",
       "      <th>3995</th>\n",
       "      <td>Aynı şeyleri yapmaktan sıkıldım</td>\n",
       "      <td>4</td>\n",
       "      <td>aynı şeyleri yapmaktan sıkıldım</td>\n",
       "    </tr>\n",
       "    <tr>\n",
       "      <th>3996</th>\n",
       "      <td>Olacağı varsa oluyor ya hani, biteceği varsa d...</td>\n",
       "      <td>4</td>\n",
       "      <td>olacağı varsa oluyor ya hani  biteceği varsa d...</td>\n",
       "    </tr>\n",
       "    <tr>\n",
       "      <th>3997</th>\n",
       "      <td>Çok şey istiyorum ama sonu hep fiyasko MUTSUZUM</td>\n",
       "      <td>4</td>\n",
       "      <td>çok şey istiyorum ama sonu hep fiyasko mutsuzum</td>\n",
       "    </tr>\n",
       "    <tr>\n",
       "      <th>3998</th>\n",
       "      <td>Garip bir şekilde canım çok yanıyor moralim bozuk</td>\n",
       "      <td>4</td>\n",
       "      <td>garip bir şekilde canım çok yanıyor moralim bozuk</td>\n",
       "    </tr>\n",
       "    <tr>\n",
       "      <th>3999</th>\n",
       "      <td>Üzgünüm birazdan takipten çıkarıp hesabımı giz...</td>\n",
       "      <td>4</td>\n",
       "      <td>üzgünüm birazdan takipten çıkarıp hesabımı giz...</td>\n",
       "    </tr>\n",
       "  </tbody>\n",
       "</table>\n",
       "<p>4000 rows × 3 columns</p>\n",
       "</div>"
      ],
      "text/plain": [
       "                                                  Tweet  Etiket  \\\n",
       "0     Allah'ım çıldıracağım. Yemin ederim çıldıracağ...       0   \n",
       "1     site ne zaman çalıştıda ürün stokları bitti di...       0   \n",
       "2       Sebebi neydi ki diye bağıracağım şimdi az kaldı       0   \n",
       "3     Black friday ne amk bu yıl çıkardınız bu bokud...       0   \n",
       "4     kısa kısa cevaplar vericeksen niye yazıyorsun ...       0   \n",
       "...                                                 ...     ...   \n",
       "3995                    Aynı şeyleri yapmaktan sıkıldım       4   \n",
       "3996  Olacağı varsa oluyor ya hani, biteceği varsa d...       4   \n",
       "3997    Çok şey istiyorum ama sonu hep fiyasko MUTSUZUM       4   \n",
       "3998  Garip bir şekilde canım çok yanıyor moralim bozuk       4   \n",
       "3999  Üzgünüm birazdan takipten çıkarıp hesabımı giz...       4   \n",
       "\n",
       "                                               new_text  \n",
       "0     allah'ım çıldıracağım  yemin ederim çıldıracağ...  \n",
       "1     site ne zaman çalıştıda ürün stokları bitti di...  \n",
       "2       sebebi neydi ki diye bağıracağım şimdi az kaldı  \n",
       "3     black friday ne amk bu yıl çıkardınız bu bokud...  \n",
       "4     kısa kısa cevaplar vericeksen niye yazıyorsun ...  \n",
       "...                                                 ...  \n",
       "3995                    aynı şeyleri yapmaktan sıkıldım  \n",
       "3996  olacağı varsa oluyor ya hani  biteceği varsa d...  \n",
       "3997    çok şey istiyorum ama sonu hep fiyasko mutsuzum  \n",
       "3998  garip bir şekilde canım çok yanıyor moralim bozuk  \n",
       "3999  üzgünüm birazdan takipten çıkarıp hesabımı giz...  \n",
       "\n",
       "[4000 rows x 3 columns]"
      ]
     },
     "execution_count": 133,
     "metadata": {},
     "output_type": "execute_result"
    }
   ],
   "source": [
    "def clean_text(text):\n",
    "    unwanted_pattern=r'[!.\\n,:“”,?@#\"]'\n",
    "    regax=re.compile(unwanted_pattern)\n",
    "    cleaned_text=regax.sub(\" \",text)\n",
    "    return cleaned_text\n",
    "df[\"new_text\"]=df[\"Tweet\"].astype(str).apply(clean_text)\n",
    "df[\"new_text\"]=df[\"new_text\"].str.replace(\"[\\d]\", \"\")\n",
    "df[\"new_text\"]=df[\"new_text\"].str.lower()\n",
    "df"
   ]
  },
  {
   "cell_type": "code",
   "execution_count": 134,
   "id": "574e0700-5bf6-4f91-9134-4541c843b1bf",
   "metadata": {},
   "outputs": [
    {
     "data": {
      "text/plain": [
       "Tweet       0\n",
       "Etiket      0\n",
       "new_text    0\n",
       "dtype: int64"
      ]
     },
     "execution_count": 134,
     "metadata": {},
     "output_type": "execute_result"
    }
   ],
   "source": [
    "df=df.dropna()\n",
    "df.isna().sum()"
   ]
  },
  {
   "cell_type": "code",
   "execution_count": 135,
   "id": "cbd873f1-827a-4c58-83d8-a733aa6e3fae",
   "metadata": {
    "tags": []
   },
   "outputs": [
    {
     "name": "stderr",
     "output_type": "stream",
     "text": [
      "[nltk_data] Downloading package stopwords to\n",
      "[nltk_data]     C:\\Users\\HP\\AppData\\Roaming\\nltk_data...\n",
      "[nltk_data]   Package stopwords is already up-to-date!\n"
     ]
    },
    {
     "data": {
      "text/plain": [
       "['acaba', 'ama', 'aslında', 'az', 'bazı']"
      ]
     },
     "execution_count": 135,
     "metadata": {},
     "output_type": "execute_result"
    }
   ],
   "source": [
    "import nltk\n",
    "nltk.download(\"stopwords\")\n",
    "from nltk.corpus import stopwords\n",
    "ineffective=stopwords.words(\"Turkish\")\n",
    "ineffective[:5]"
   ]
  },
  {
   "cell_type": "code",
   "execution_count": 136,
   "id": "1a95771f-c5fd-470e-84dc-a081d1b3eb9e",
   "metadata": {},
   "outputs": [
    {
     "name": "stderr",
     "output_type": "stream",
     "text": [
      "C:\\Users\\HP\\AppData\\Local\\Temp\\ipykernel_11560\\61437244.py:1: SettingWithCopyWarning: \n",
      "A value is trying to be set on a copy of a slice from a DataFrame.\n",
      "Try using .loc[row_indexer,col_indexer] = value instead\n",
      "\n",
      "See the caveats in the documentation: https://pandas.pydata.org/pandas-docs/stable/user_guide/indexing.html#returning-a-view-versus-a-copy\n",
      "  df[\"new_text\"]=df[\"new_text\"].apply(lambda x: \" \".join(x for x in x.split() if x not in ineffective))\n"
     ]
    },
    {
     "data": {
      "text/html": [
       "<div>\n",
       "<style scoped>\n",
       "    .dataframe tbody tr th:only-of-type {\n",
       "        vertical-align: middle;\n",
       "    }\n",
       "\n",
       "    .dataframe tbody tr th {\n",
       "        vertical-align: top;\n",
       "    }\n",
       "\n",
       "    .dataframe thead th {\n",
       "        text-align: right;\n",
       "    }\n",
       "</style>\n",
       "<table border=\"1\" class=\"dataframe\">\n",
       "  <thead>\n",
       "    <tr style=\"text-align: right;\">\n",
       "      <th></th>\n",
       "      <th>Tweet</th>\n",
       "      <th>Etiket</th>\n",
       "      <th>new_text</th>\n",
       "    </tr>\n",
       "  </thead>\n",
       "  <tbody>\n",
       "    <tr>\n",
       "      <th>0</th>\n",
       "      <td>Allah'ım çıldıracağım. Yemin ederim çıldıracağ...</td>\n",
       "      <td>0</td>\n",
       "      <td>allah'ım çıldıracağım yemin ederim çıldıracağı...</td>\n",
       "    </tr>\n",
       "    <tr>\n",
       "      <th>1</th>\n",
       "      <td>site ne zaman çalıştıda ürün stokları bitti di...</td>\n",
       "      <td>0</td>\n",
       "      <td>site zaman çalıştıda ürün stokları bitti diyor...</td>\n",
       "    </tr>\n",
       "    <tr>\n",
       "      <th>2</th>\n",
       "      <td>Sebebi neydi ki diye bağıracağım şimdi az kaldı</td>\n",
       "      <td>0</td>\n",
       "      <td>sebebi neydi bağıracağım şimdi kaldı</td>\n",
       "    </tr>\n",
       "    <tr>\n",
       "      <th>3</th>\n",
       "      <td>Black friday ne amk bu yıl çıkardınız bu bokud...</td>\n",
       "      <td>0</td>\n",
       "      <td>black friday amk yıl çıkardınız bokuda mal mıs...</td>\n",
       "    </tr>\n",
       "    <tr>\n",
       "      <th>4</th>\n",
       "      <td>kısa kısa cevaplar vericeksen niye yazıyorsun ...</td>\n",
       "      <td>0</td>\n",
       "      <td>kısa kısa cevaplar vericeksen yazıyorsun geriz...</td>\n",
       "    </tr>\n",
       "  </tbody>\n",
       "</table>\n",
       "</div>"
      ],
      "text/plain": [
       "                                               Tweet  Etiket  \\\n",
       "0  Allah'ım çıldıracağım. Yemin ederim çıldıracağ...       0   \n",
       "1  site ne zaman çalıştıda ürün stokları bitti di...       0   \n",
       "2    Sebebi neydi ki diye bağıracağım şimdi az kaldı       0   \n",
       "3  Black friday ne amk bu yıl çıkardınız bu bokud...       0   \n",
       "4  kısa kısa cevaplar vericeksen niye yazıyorsun ...       0   \n",
       "\n",
       "                                            new_text  \n",
       "0  allah'ım çıldıracağım yemin ederim çıldıracağı...  \n",
       "1  site zaman çalıştıda ürün stokları bitti diyor...  \n",
       "2               sebebi neydi bağıracağım şimdi kaldı  \n",
       "3  black friday amk yıl çıkardınız bokuda mal mıs...  \n",
       "4  kısa kısa cevaplar vericeksen yazıyorsun geriz...  "
      ]
     },
     "execution_count": 136,
     "metadata": {},
     "output_type": "execute_result"
    }
   ],
   "source": [
    "df[\"new_text\"]=df[\"new_text\"].apply(lambda x: \" \".join(x for x in x.split() if x not in ineffective))\n",
    "df.head()"
   ]
  },
  {
   "cell_type": "markdown",
   "id": "b43041fc-8267-4ca9-9654-e149700f8c43",
   "metadata": {},
   "source": [
    "Vectorizing"
   ]
  },
  {
   "cell_type": "code",
   "execution_count": 137,
   "id": "61063185-c4b6-4008-a6a6-92a53cc2dea2",
   "metadata": {},
   "outputs": [],
   "source": [
    "X_train, X_test, y_train, y_test = train_test_split(df['new_text'], df['Etiket'], test_size=0.25, random_state=42)\n",
    "\n",
    "tf_vector = TfidfVectorizer(max_features =  5000)\n",
    "ct_vector = CountVectorizer(max_features = 5000)\n",
    "X_train_vec = tf_vector.fit_transform(X_train)\n",
    "X_test_vec = tf_vector.transform(X_test)\n",
    "X_train_ct = ct_vector.fit_transform(X_train)\n",
    "X_test_ct = ct_vector.transform(X_test)"
   ]
  },
  {
   "cell_type": "markdown",
   "id": "19b8b2bc-5ce4-477d-8381-841656a679ec",
   "metadata": {},
   "source": [
    "Machine Learning Model"
   ]
  },
  {
   "cell_type": "markdown",
   "id": "a9a04029-0150-47ed-8f8b-a1a97dc3e183",
   "metadata": {},
   "source": [
    "Naive Bayes"
   ]
  },
  {
   "cell_type": "code",
   "execution_count": 138,
   "id": "95aabecc-19ff-4a9f-a40c-9d6f7bb2ad45",
   "metadata": {},
   "outputs": [
    {
     "data": {
      "image/png": "[encoded data removed]",
      "text/plain": [
       "<Figure size 432x288 with 1 Axes>"
      ]
     },
     "metadata": {
      "needs_background": "light"
     },
     "output_type": "display_data"
    },
    {
     "name": "stdout",
     "output_type": "stream",
     "text": [
      "              precision    recall  f1-score   support\n",
      "\n",
      "           0       0.99      0.94      0.96       217\n",
      "           1       0.97      0.95      0.96       207\n",
      "           2       0.94      0.94      0.94       190\n",
      "           3       0.95      0.98      0.96       192\n",
      "           4       0.94      0.97      0.96       194\n",
      "\n",
      "    accuracy                           0.96      1000\n",
      "   macro avg       0.96      0.96      0.96      1000\n",
      "weighted avg       0.96      0.96      0.96      1000\n",
      "\n"
     ]
    }
   ],
   "source": [
    "nb_tf = BernoulliNB()\n",
    "nb_tf.fit(X_train_vec, y_train)\n",
    "\n",
    "def evaluate_model(model, X_test, y_test):\n",
    "    y_pred = model.predict(X_test)\n",
    "    cm = confusion_matrix(y_test, y_pred)\n",
    "    sns.heatmap(cm, annot=True, cbar=False, fmt=\".4g\")\n",
    "    plt.show()\n",
    "    print(classification_report(y_test, y_pred))\n",
    "    \n",
    "result = pd.DataFrame(columns=['TF_Vectorizer_accuracy', 'Count_Vectorizer_accuracy', 'Model'])\n",
    "    \n",
    "evaluate_model(nb_tf, X_test_vec, y_test)\n",
    "    "
   ]
  },
  {
   "cell_type": "code",
   "execution_count": 139,
   "id": "c3c2583d-f8b0-464e-ad9f-04e8e08869bf",
   "metadata": {},
   "outputs": [
    {
     "data": {
      "image/png": "[encoded data removed]",
      "text/plain": [
       "<Figure size 432x288 with 1 Axes>"
      ]
     },
     "metadata": {
      "needs_background": "light"
     },
     "output_type": "display_data"
    },
    {
     "name": "stdout",
     "output_type": "stream",
     "text": [
      "              precision    recall  f1-score   support\n",
      "\n",
      "           0       0.99      0.94      0.96       217\n",
      "           1       0.97      0.95      0.96       207\n",
      "           2       0.94      0.94      0.94       190\n",
      "           3       0.95      0.98      0.96       192\n",
      "           4       0.94      0.97      0.96       194\n",
      "\n",
      "    accuracy                           0.96      1000\n",
      "   macro avg       0.96      0.96      0.96      1000\n",
      "weighted avg       0.96      0.96      0.96      1000\n",
      "\n"
     ]
    },
    {
     "data": {
      "text/html": [
       "<div>\n",
       "<style scoped>\n",
       "    .dataframe tbody tr th:only-of-type {\n",
       "        vertical-align: middle;\n",
       "    }\n",
       "\n",
       "    .dataframe tbody tr th {\n",
       "        vertical-align: top;\n",
       "    }\n",
       "\n",
       "    .dataframe thead th {\n",
       "        text-align: right;\n",
       "    }\n",
       "</style>\n",
       "<table border=\"1\" class=\"dataframe\">\n",
       "  <thead>\n",
       "    <tr style=\"text-align: right;\">\n",
       "      <th></th>\n",
       "      <th>TF_Vectorizer_accuracy</th>\n",
       "      <th>Count_Vectorizer_accuracy</th>\n",
       "      <th>Model</th>\n",
       "    </tr>\n",
       "  </thead>\n",
       "  <tbody>\n",
       "    <tr>\n",
       "      <th>0</th>\n",
       "      <td>0.957</td>\n",
       "      <td>0.957</td>\n",
       "      <td>Naive Bayes</td>\n",
       "    </tr>\n",
       "  </tbody>\n",
       "</table>\n",
       "</div>"
      ],
      "text/plain": [
       "   TF_Vectorizer_accuracy  Count_Vectorizer_accuracy        Model\n",
       "0                   0.957                      0.957  Naive Bayes"
      ]
     },
     "execution_count": 139,
     "metadata": {},
     "output_type": "execute_result"
    }
   ],
   "source": [
    "nb_ct = BernoulliNB()\n",
    "nb_ct.fit(X_train_ct, y_train)\n",
    "result = result.append({\n",
    "                'Model': 'Naive Bayes',\n",
    "                'Count_Vectorizer_accuracy':nb_ct .score(X_test_ct, y_test),\n",
    "                'TF_Vectorizer_accuracy': nb_tf.score(X_test_vec, y_test)},\n",
    "                ignore_index=True)\n",
    "evaluate_model(nb_ct, X_test_ct, y_test)\n",
    "result"
   ]
  },
  {
   "cell_type": "markdown",
   "id": "0fa97fdf-58c3-45ac-8a59-89a4147bc630",
   "metadata": {},
   "source": [
    "Support Vector Machine"
   ]
  },
  {
   "cell_type": "code",
   "execution_count": 140,
   "id": "7186734e-4686-428e-9f2d-3326c5aae004",
   "metadata": {},
   "outputs": [
    {
     "data": {
      "image/png": "[encoded data removed]",
      "text/plain": [
       "<Figure size 432x288 with 1 Axes>"
      ]
     },
     "metadata": {
      "needs_background": "light"
     },
     "output_type": "display_data"
    },
    {
     "name": "stdout",
     "output_type": "stream",
     "text": [
      "              precision    recall  f1-score   support\n",
      "\n",
      "           0       0.99      0.98      0.99       217\n",
      "           1       0.99      0.97      0.98       207\n",
      "           2       0.96      0.97      0.97       190\n",
      "           3       0.97      0.98      0.98       192\n",
      "           4       0.96      0.98      0.97       194\n",
      "\n",
      "    accuracy                           0.98      1000\n",
      "   macro avg       0.98      0.98      0.98      1000\n",
      "weighted avg       0.98      0.98      0.98      1000\n",
      "\n"
     ]
    }
   ],
   "source": [
    "svc_tf = SVC()\n",
    "svc_tf.fit(X_train_vec, y_train)\n",
    "evaluate_model(svc_tf, X_test_vec, y_test)"
   ]
  },
  {
   "cell_type": "code",
   "execution_count": 141,
   "id": "ccb79a59-2a77-4d97-b18f-1bf10715e889",
   "metadata": {},
   "outputs": [
    {
     "data": {
      "image/png": "[encoded data removed]",
      "text/plain": [
       "<Figure size 432x288 with 1 Axes>"
      ]
     },
     "metadata": {
      "needs_background": "light"
     },
     "output_type": "display_data"
    },
    {
     "name": "stdout",
     "output_type": "stream",
     "text": [
      "              precision    recall  f1-score   support\n",
      "\n",
      "           0       0.99      0.97      0.98       217\n",
      "           1       0.99      0.96      0.98       207\n",
      "           2       0.96      0.95      0.96       190\n",
      "           3       0.99      0.98      0.98       192\n",
      "           4       0.91      0.99      0.95       194\n",
      "\n",
      "    accuracy                           0.97      1000\n",
      "   macro avg       0.97      0.97      0.97      1000\n",
      "weighted avg       0.97      0.97      0.97      1000\n",
      "\n"
     ]
    },
    {
     "data": {
      "text/html": [
       "<div>\n",
       "<style scoped>\n",
       "    .dataframe tbody tr th:only-of-type {\n",
       "        vertical-align: middle;\n",
       "    }\n",
       "\n",
       "    .dataframe tbody tr th {\n",
       "        vertical-align: top;\n",
       "    }\n",
       "\n",
       "    .dataframe thead th {\n",
       "        text-align: right;\n",
       "    }\n",
       "</style>\n",
       "<table border=\"1\" class=\"dataframe\">\n",
       "  <thead>\n",
       "    <tr style=\"text-align: right;\">\n",
       "      <th></th>\n",
       "      <th>TF_Vectorizer_accuracy</th>\n",
       "      <th>Count_Vectorizer_accuracy</th>\n",
       "      <th>Model</th>\n",
       "    </tr>\n",
       "  </thead>\n",
       "  <tbody>\n",
       "    <tr>\n",
       "      <th>0</th>\n",
       "      <td>0.957</td>\n",
       "      <td>0.957</td>\n",
       "      <td>Naive Bayes</td>\n",
       "    </tr>\n",
       "    <tr>\n",
       "      <th>1</th>\n",
       "      <td>0.977</td>\n",
       "      <td>0.969</td>\n",
       "      <td>Support Vector Machine</td>\n",
       "    </tr>\n",
       "  </tbody>\n",
       "</table>\n",
       "</div>"
      ],
      "text/plain": [
       "   TF_Vectorizer_accuracy  Count_Vectorizer_accuracy                   Model\n",
       "0                   0.957                      0.957             Naive Bayes\n",
       "1                   0.977                      0.969  Support Vector Machine"
      ]
     },
     "execution_count": 141,
     "metadata": {},
     "output_type": "execute_result"
    }
   ],
   "source": [
    "svc_ct = SVC()\n",
    "svc_ct.fit(X_train_ct, y_train)\n",
    "evaluate_model(svc_ct, X_test_ct, y_test)\n",
    "result = result.append({\n",
    "                'Model': 'Support Vector Machine',\n",
    "                'Count_Vectorizer_accuracy':svc_ct .score(X_test_ct, y_test),\n",
    "                'TF_Vectorizer_accuracy': svc_tf.score(X_test_vec, y_test)},\n",
    "                ignore_index=True)\n",
    "result"
   ]
  },
  {
   "cell_type": "markdown",
   "id": "fb2c0930-dee3-4eb4-84d6-ae60476cb75d",
   "metadata": {},
   "source": [
    "Deep Learning Model"
   ]
  },
  {
   "cell_type": "code",
   "execution_count": 75,
   "id": "0bfaac18-a197-44a2-abe3-19bcc7cb0d59",
   "metadata": {},
   "outputs": [],
   "source": [
    "from tensorflow.keras.layers import Embedding, GlobalAveragePooling1D\n",
    "from tensorflow.keras.preprocessing.text import Tokenizer\n",
    "train_df, test_df = train_test_split(df, test_size=0.2, random_state=42)\n",
    "vocab_size = 10000 \n",
    "embedding_dim = 16\n",
    "max_length = 200\n",
    "oov_tok = \"<OOV>\"\n",
    "\n",
    "tokenizer = Tokenizer(num_words = vocab_size, oov_token=oov_tok)\n",
    "tokenizer.fit_on_texts(train_df[\"Tweet\"])\n",
    "word_index = tokenizer.word_index\n",
    "y_train = train_df[\"Etiket\"].values\n",
    "\n",
    "train_sequences = tokenizer.texts_to_sequences(train_df[\"Tweet\"])\n",
    "train_padded = pad_sequences(train_sequences, maxlen=max_length)\n",
    "\n",
    "validation_sequences = tokenizer.texts_to_sequences(test_df[\"Tweet\"])\n",
    "validation_padded = pad_sequences(validation_sequences, maxlen=max_length)\n",
    "y_test = test_df[\"Etiket\"].values"
   ]
  },
  {
   "cell_type": "markdown",
   "id": "28521bdc-652e-4ab2-aa42-4c64087ca853",
   "metadata": {},
   "source": [
    "CNN"
   ]
  },
  {
   "cell_type": "code",
   "execution_count": 98,
   "id": "3b2ba950-15ae-42a6-82dc-d0b7f79b5b6a",
   "metadata": {},
   "outputs": [
    {
     "name": "stdout",
     "output_type": "stream",
     "text": [
      "WARNING:tensorflow:Compiled the loaded model, but the compiled metrics have yet to be built. `model.compile_metrics` will be empty until you train or evaluate the model.\n",
      "Model: \"sequential_20\"\n",
      "_________________________________________________________________\n",
      " Layer (type)                Output Shape              Param #   \n",
      "=================================================================\n",
      " embedding_21 (Embedding)    (None, 200, 16)           160000    \n",
      "                                                                 \n",
      " conv1d_13 (Conv1D)          (None, 196, 128)          10368     \n",
      "                                                                 \n",
      " batch_normalization_3 (Batc  (None, 196, 128)         512       \n",
      " hNormalization)                                                 \n",
      "                                                                 \n",
      " dropout_8 (Dropout)         (None, 196, 128)          0         \n",
      "                                                                 \n",
      " global_max_pooling1d_10 (Gl  (None, 128)              0         \n",
      " obalMaxPooling1D)                                               \n",
      "                                                                 \n",
      " dense_41 (Dense)            (None, 64)                8256      \n",
      "                                                                 \n",
      " dense_42 (Dense)            (None, 5)                 325       \n",
      "                                                                 \n",
      "=================================================================\n",
      "Total params: 179,461\n",
      "Trainable params: 179,205\n",
      "Non-trainable params: 256\n",
      "_________________________________________________________________\n"
     ]
    }
   ],
   "source": [
    "from tensorflow.keras.layers import Conv1D, GlobalMaxPooling1D, BatchNormalization\n",
    "from tensorflow.keras.models import Sequential\n",
    "from tensorflow.keras.models import load_model\n",
    "from tensorflow.keras.callbacks import EarlyStopping, ReduceLROnPlateau\n",
    "\n",
    "\n",
    "tf.random.set_seed(42)\n",
    "cnn_model = tf.keras.Sequential([\n",
    "    Embedding(vocab_size, embedding_dim, input_length=max_length),\n",
    "    Conv1D(128, 5, activation='relu'),\n",
    "    BatchNormalization(),\n",
    "    Dropout(0.5),\n",
    "    GlobalMaxPooling1D(),\n",
    "    Dense(64, activation='relu'),\n",
    "    Dense(5, activation='softmax')\n",
    "])\n",
    "\n",
    "cnn_model.save('cnn.h5')\n",
    "cnn_model.compile(loss='sparse_categorical_crossentropy', optimizer='adam', metrics=['accuracy']) \n",
    "cnn_model.summary() \n"
   ]
  },
  {
   "cell_type": "code",
   "execution_count": 99,
   "id": "1fcb0306-0dd9-4974-bf37-3e7551238cc1",
   "metadata": {},
   "outputs": [
    {
     "name": "stdout",
     "output_type": "stream",
     "text": [
      "Epoch 1/30\n",
      "100/100 - 8s - loss: 1.5493 - accuracy: 0.3063 - val_loss: 1.5912 - val_accuracy: 0.4875 - 8s/epoch - 84ms/step\n",
      "Epoch 2/30\n",
      "100/100 - 5s - loss: 0.6343 - accuracy: 0.7868 - val_loss: 1.3558 - val_accuracy: 0.9125 - 5s/epoch - 48ms/step\n",
      "Epoch 3/30\n",
      "100/100 - 5s - loss: 0.0688 - accuracy: 0.9812 - val_loss: 1.0319 - val_accuracy: 0.9438 - 5s/epoch - 47ms/step\n",
      "Epoch 4/30\n",
      "100/100 - 5s - loss: 0.0128 - accuracy: 0.9981 - val_loss: 0.6809 - val_accuracy: 0.9650 - 5s/epoch - 51ms/step\n",
      "Epoch 5/30\n",
      "100/100 - 5s - loss: 0.0059 - accuracy: 0.9984 - val_loss: 0.3720 - val_accuracy: 0.9688 - 5s/epoch - 49ms/step\n",
      "Epoch 6/30\n",
      "100/100 - 5s - loss: 0.0030 - accuracy: 0.9997 - val_loss: 0.1966 - val_accuracy: 0.9700 - 5s/epoch - 48ms/step\n",
      "Epoch 7/30\n",
      "100/100 - 5s - loss: 0.0023 - accuracy: 1.0000 - val_loss: 0.1257 - val_accuracy: 0.9700 - 5s/epoch - 49ms/step\n",
      "Epoch 8/30\n",
      "100/100 - 5s - loss: 0.0014 - accuracy: 1.0000 - val_loss: 0.1023 - val_accuracy: 0.9725 - 5s/epoch - 48ms/step\n",
      "Epoch 9/30\n",
      "100/100 - 5s - loss: 0.0013 - accuracy: 1.0000 - val_loss: 0.0965 - val_accuracy: 0.9700 - 5s/epoch - 48ms/step\n",
      "Epoch 10/30\n",
      "100/100 - 5s - loss: 0.0012 - accuracy: 1.0000 - val_loss: 0.0885 - val_accuracy: 0.9750 - 5s/epoch - 53ms/step\n",
      "Epoch 11/30\n",
      "100/100 - 5s - loss: 8.7002e-04 - accuracy: 1.0000 - val_loss: 0.0894 - val_accuracy: 0.9712 - 5s/epoch - 50ms/step\n",
      "Epoch 12/30\n",
      "100/100 - 5s - loss: 7.8717e-04 - accuracy: 1.0000 - val_loss: 0.0864 - val_accuracy: 0.9737 - 5s/epoch - 48ms/step\n",
      "Epoch 13/30\n",
      "100/100 - 5s - loss: 8.8006e-04 - accuracy: 1.0000 - val_loss: 0.0844 - val_accuracy: 0.9737 - 5s/epoch - 49ms/step\n",
      "Epoch 14/30\n",
      "100/100 - 5s - loss: 8.1570e-04 - accuracy: 1.0000 - val_loss: 0.0841 - val_accuracy: 0.9737 - 5s/epoch - 51ms/step\n",
      "Epoch 15/30\n",
      "100/100 - 5s - loss: 8.7758e-04 - accuracy: 1.0000 - val_loss: 0.0877 - val_accuracy: 0.9725 - 5s/epoch - 48ms/step\n",
      "Epoch 16/30\n",
      "100/100 - 5s - loss: 0.0011 - accuracy: 1.0000 - val_loss: 0.0872 - val_accuracy: 0.9737 - 5s/epoch - 51ms/step\n",
      "Epoch 17/30\n",
      "100/100 - 6s - loss: 6.9679e-04 - accuracy: 1.0000 - val_loss: 0.0828 - val_accuracy: 0.9712 - 6s/epoch - 58ms/step\n",
      "Epoch 18/30\n",
      "100/100 - 6s - loss: 6.1393e-04 - accuracy: 1.0000 - val_loss: 0.0820 - val_accuracy: 0.9725 - 6s/epoch - 57ms/step\n",
      "Epoch 19/30\n",
      "100/100 - 5s - loss: 5.7871e-04 - accuracy: 1.0000 - val_loss: 0.0813 - val_accuracy: 0.9725 - 5s/epoch - 53ms/step\n",
      "Epoch 20/30\n",
      "100/100 - 5s - loss: 5.6535e-04 - accuracy: 1.0000 - val_loss: 0.0801 - val_accuracy: 0.9737 - 5s/epoch - 52ms/step\n",
      "Epoch 21/30\n",
      "100/100 - 5s - loss: 0.0012 - accuracy: 0.9994 - val_loss: 0.0860 - val_accuracy: 0.9700 - 5s/epoch - 49ms/step\n",
      "Epoch 22/30\n",
      "100/100 - 5s - loss: 0.0013 - accuracy: 1.0000 - val_loss: 0.0801 - val_accuracy: 0.9712 - 5s/epoch - 48ms/step\n",
      "Epoch 23/30\n",
      "100/100 - 5s - loss: 0.0010 - accuracy: 0.9997 - val_loss: 0.0821 - val_accuracy: 0.9688 - 5s/epoch - 49ms/step\n"
     ]
    }
   ],
   "source": [
    "num_epochs = 30\n",
    "early_stopping = EarlyStopping(monitor='val_loss', patience=3)\n",
    "history = cnn_model.fit(train_padded, y_train, epochs=num_epochs, validation_data=(validation_padded, y_test), verbose=2, callbacks=[early_stopping])"
   ]
  },
  {
   "cell_type": "code",
   "execution_count": 100,
   "id": "b61ecca0-770f-4b5b-9731-90da7c1e61fd",
   "metadata": {},
   "outputs": [
    {
     "data": {
      "image/png": "[encoded data removed]",
      "text/plain": [
       "<Figure size 432x288 with 1 Axes>"
      ]
     },
     "metadata": {
      "needs_background": "light"
     },
     "output_type": "display_data"
    },
    {
     "data": {
      "image/png": "[encoded data removed]",
      "text/plain": [
       "<Figure size 432x288 with 1 Axes>"
      ]
     },
     "metadata": {
      "needs_background": "light"
     },
     "output_type": "display_data"
    }
   ],
   "source": [
    "import matplotlib.pyplot as plt\n",
    "\n",
    "# Training ve validation loss grafiği\n",
    "plt.plot(history.history['loss'], label='Training Loss')\n",
    "plt.plot(history.history['val_loss'], label='Validation Loss')\n",
    "plt.xlabel('Epochs')\n",
    "plt.ylabel('Loss')\n",
    "plt.legend()\n",
    "plt.show()\n",
    "\n",
    "# Training ve validation accuracy grafiği\n",
    "plt.plot(history.history['accuracy'], label='Training Accuracy')\n",
    "plt.plot(history.history['val_accuracy'], label='Validation Accuracy')\n",
    "plt.xlabel('Epochs')\n",
    "plt.ylabel('Accuracy')\n",
    "plt.legend()\n",
    "plt.show()\n"
   ]
  },
  {
   "cell_type": "code",
   "execution_count": 101,
   "id": "81e036c0-876d-44fd-aeb1-94a4b9f03f8b",
   "metadata": {},
   "outputs": [],
   "source": [
    "def evaluate_model_dl(model, X_test, y_test):\n",
    "    y_pred = np.argmax(model.predict(X_test), axis=-1)\n",
    "    cm = confusion_matrix(y_test, y_pred)\n",
    "    sns.heatmap(cm, annot=True, cbar=False, fmt=\".4g\")\n",
    "    plt.show()\n",
    "    print(classification_report(y_test, y_pred))\n",
    "result_dl = pd.DataFrame(columns=['Accuracy', 'Model'])"
   ]
  },
  {
   "cell_type": "code",
   "execution_count": 102,
   "id": "21a52ef0-4c82-4fe0-a940-f2cab305814d",
   "metadata": {},
   "outputs": [
    {
     "name": "stdout",
     "output_type": "stream",
     "text": [
      "25/25 [==============================] - 1s 12ms/step\n"
     ]
    },
    {
     "data": {
      "image/png": "[encoded data removed]",
      "text/plain": [
       "<Figure size 432x288 with 1 Axes>"
      ]
     },
     "metadata": {
      "needs_background": "light"
     },
     "output_type": "display_data"
    },
    {
     "name": "stdout",
     "output_type": "stream",
     "text": [
      "              precision    recall  f1-score   support\n",
      "\n",
      "           0       0.98      0.97      0.98       169\n",
      "           1       0.99      0.98      0.98       164\n",
      "           2       0.94      0.96      0.95       160\n",
      "           3       0.97      0.97      0.97       156\n",
      "           4       0.97      0.96      0.96       151\n",
      "\n",
      "    accuracy                           0.97       800\n",
      "   macro avg       0.97      0.97      0.97       800\n",
      "weighted avg       0.97      0.97      0.97       800\n",
      "\n"
     ]
    }
   ],
   "source": [
    "evaluate_model_dl(cnn_model, validation_padded, y_test)"
   ]
  },
  {
   "cell_type": "code",
   "execution_count": 103,
   "id": "4959f279-f819-41ad-832f-e3c9bd804816",
   "metadata": {},
   "outputs": [
    {
     "name": "stdout",
     "output_type": "stream",
     "text": [
      "25/25 [==============================] - 0s 12ms/step - loss: 0.0821 - accuracy: 0.9688\n"
     ]
    },
    {
     "data": {
      "text/html": [
       "<div>\n",
       "<style scoped>\n",
       "    .dataframe tbody tr th:only-of-type {\n",
       "        vertical-align: middle;\n",
       "    }\n",
       "\n",
       "    .dataframe tbody tr th {\n",
       "        vertical-align: top;\n",
       "    }\n",
       "\n",
       "    .dataframe thead th {\n",
       "        text-align: right;\n",
       "    }\n",
       "</style>\n",
       "<table border=\"1\" class=\"dataframe\">\n",
       "  <thead>\n",
       "    <tr style=\"text-align: right;\">\n",
       "      <th></th>\n",
       "      <th>Accuracy</th>\n",
       "      <th>Model</th>\n",
       "    </tr>\n",
       "  </thead>\n",
       "  <tbody>\n",
       "    <tr>\n",
       "      <th>0</th>\n",
       "      <td>0.969</td>\n",
       "      <td>CNN</td>\n",
       "    </tr>\n",
       "  </tbody>\n",
       "</table>\n",
       "</div>"
      ],
      "text/plain": [
       "   Accuracy Model\n",
       "0     0.969   CNN"
      ]
     },
     "execution_count": 103,
     "metadata": {},
     "output_type": "execute_result"
    }
   ],
   "source": [
    "result_dl = result_dl.append({\n",
    "                'Model': 'CNN',\n",
    "                'Accuracy': cnn_model.evaluate(validation_padded, y_test)[1]},\n",
    "                ignore_index=True)\n",
    "result_dl"
   ]
  },
  {
   "cell_type": "markdown",
   "id": "8dd79bbd-6a57-4dab-bed3-f50de61812fe",
   "metadata": {},
   "source": [
    "LSTM"
   ]
  },
  {
   "cell_type": "code",
   "execution_count": 109,
   "id": "43962288-e4e2-4247-9ff9-06849f8cce14",
   "metadata": {},
   "outputs": [
    {
     "name": "stdout",
     "output_type": "stream",
     "text": [
      "WARNING:tensorflow:Compiled the loaded model, but the compiled metrics have yet to be built. `model.compile_metrics` will be empty until you train or evaluate the model.\n",
      "Model: \"sequential_24\"\n",
      "_________________________________________________________________\n",
      " Layer (type)                Output Shape              Param #   \n",
      "=================================================================\n",
      " embedding_25 (Embedding)    (None, 200, 16)           160000    \n",
      "                                                                 \n",
      " lstm_13 (LSTM)              (None, 32)                6272      \n",
      "                                                                 \n",
      " dense_49 (Dense)            (None, 32)                1056      \n",
      "                                                                 \n",
      " dense_50 (Dense)            (None, 5)                 165       \n",
      "                                                                 \n",
      "=================================================================\n",
      "Total params: 167,493\n",
      "Trainable params: 167,493\n",
      "Non-trainable params: 0\n",
      "_________________________________________________________________\n"
     ]
    }
   ],
   "source": [
    "from tensorflow.keras.layers import LSTM,Bidirectional\n",
    "\n",
    "lstm_model = tf.keras.Sequential([\n",
    "    Embedding(vocab_size, embedding_dim, input_length=max_length),\n",
    "    LSTM(32),\n",
    "    Dense(32, activation='relu'),\n",
    "    Dense(5, activation='softmax')\n",
    "])\n",
    "lstm_model.save('lstm.h5')\n",
    "\n",
    "lstm_model.compile(loss='sparse_categorical_crossentropy', optimizer='adam', metrics=['accuracy'])\n",
    "lstm_model.summary()"
   ]
  },
  {
   "cell_type": "code",
   "execution_count": 110,
   "id": "17468824-b198-4796-9dbb-8b912dd22d41",
   "metadata": {},
   "outputs": [
    {
     "name": "stdout",
     "output_type": "stream",
     "text": [
      "Epoch 1/30\n",
      "100/100 - 20s - loss: 1.5623 - accuracy: 0.3682 - val_loss: 1.3088 - val_accuracy: 0.7113 - 20s/epoch - 203ms/step\n",
      "Epoch 2/30\n",
      "100/100 - 12s - loss: 0.8922 - accuracy: 0.7624 - val_loss: 0.4690 - val_accuracy: 0.8737 - 12s/epoch - 120ms/step\n",
      "Epoch 3/30\n",
      "100/100 - 12s - loss: 0.1516 - accuracy: 0.9762 - val_loss: 0.2690 - val_accuracy: 0.9125 - 12s/epoch - 117ms/step\n",
      "Epoch 4/30\n",
      "100/100 - 12s - loss: 0.0291 - accuracy: 0.9966 - val_loss: 0.2251 - val_accuracy: 0.9250 - 12s/epoch - 119ms/step\n",
      "Epoch 5/30\n",
      "100/100 - 12s - loss: 0.0494 - accuracy: 0.9959 - val_loss: 0.2113 - val_accuracy: 0.9312 - 12s/epoch - 119ms/step\n",
      "Epoch 6/30\n",
      "100/100 - 12s - loss: 0.0087 - accuracy: 0.9994 - val_loss: 0.1920 - val_accuracy: 0.9337 - 12s/epoch - 116ms/step\n",
      "Epoch 7/30\n",
      "100/100 - 12s - loss: 0.0045 - accuracy: 0.9997 - val_loss: 0.2298 - val_accuracy: 0.9275 - 12s/epoch - 117ms/step\n",
      "Epoch 8/30\n",
      "100/100 - 12s - loss: 0.0041 - accuracy: 0.9997 - val_loss: 0.1863 - val_accuracy: 0.9400 - 12s/epoch - 120ms/step\n",
      "Epoch 9/30\n",
      "100/100 - 12s - loss: 0.0030 - accuracy: 0.9997 - val_loss: 0.1942 - val_accuracy: 0.9375 - 12s/epoch - 121ms/step\n",
      "Epoch 10/30\n",
      "100/100 - 12s - loss: 0.0026 - accuracy: 0.9997 - val_loss: 0.2106 - val_accuracy: 0.9312 - 12s/epoch - 119ms/step\n",
      "Epoch 11/30\n",
      "100/100 - 12s - loss: 0.0023 - accuracy: 0.9997 - val_loss: 0.1977 - val_accuracy: 0.9337 - 12s/epoch - 123ms/step\n"
     ]
    }
   ],
   "source": [
    "num_epochs = 30\n",
    "early_stopping = EarlyStopping(monitor='val_loss', patience=3)\n",
    "lstm_history = lstm_model.fit(train_padded, y_train, epochs=num_epochs, validation_data=(validation_padded, y_test), verbose=2, callbacks=[early_stopping])"
   ]
  },
  {
   "cell_type": "code",
   "execution_count": 111,
   "id": "8bb9e08f-e27f-4ba0-a718-7ea695b4369b",
   "metadata": {},
   "outputs": [
    {
     "data": {
      "image/png": "[encoded data removed]",
      "text/plain": [
       "<Figure size 432x288 with 1 Axes>"
      ]
     },
     "metadata": {
      "needs_background": "light"
     },
     "output_type": "display_data"
    },
    {
     "data": {
      "image/png": "[encoded data removed]",
      "text/plain": [
       "<Figure size 432x288 with 1 Axes>"
      ]
     },
     "metadata": {
      "needs_background": "light"
     },
     "output_type": "display_data"
    }
   ],
   "source": [
    "import matplotlib.pyplot as plt\n",
    "\n",
    "# Training ve validation loss grafiği\n",
    "plt.plot(lstm_history.history['loss'], label='Training Loss')\n",
    "plt.plot(lstm_history.history['val_loss'], label='Validation Loss')\n",
    "plt.xlabel('Epochs')\n",
    "plt.ylabel('Loss')\n",
    "plt.legend()\n",
    "plt.show()\n",
    "\n",
    "# Training ve validation accuracy grafiği\n",
    "plt.plot(lstm_history.history['accuracy'], label='Training Accuracy')\n",
    "plt.plot(lstm_history.history['val_accuracy'], label='Validation Accuracy')\n",
    "plt.xlabel('Epochs')\n",
    "plt.ylabel('Accuracy')\n",
    "plt.legend()\n",
    "plt.show()"
   ]
  },
  {
   "cell_type": "code",
   "execution_count": 112,
   "id": "d5a750ad-3330-4944-a6f8-da7f8f1b4822",
   "metadata": {},
   "outputs": [
    {
     "name": "stdout",
     "output_type": "stream",
     "text": [
      "25/25 [==============================] - 3s 45ms/step\n"
     ]
    },
    {
     "data": {
      "image/png": "[encoded data removed]",
      "text/plain": [
       "<Figure size 432x288 with 1 Axes>"
      ]
     },
     "metadata": {
      "needs_background": "light"
     },
     "output_type": "display_data"
    },
    {
     "name": "stdout",
     "output_type": "stream",
     "text": [
      "              precision    recall  f1-score   support\n",
      "\n",
      "           0       0.93      0.98      0.96       169\n",
      "           1       0.92      0.97      0.94       164\n",
      "           2       0.94      0.93      0.93       160\n",
      "           3       0.93      0.93      0.93       156\n",
      "           4       0.96      0.85      0.90       151\n",
      "\n",
      "    accuracy                           0.93       800\n",
      "   macro avg       0.93      0.93      0.93       800\n",
      "weighted avg       0.93      0.93      0.93       800\n",
      "\n"
     ]
    }
   ],
   "source": [
    "evaluate_model_dl(lstm_model, validation_padded, y_test)"
   ]
  },
  {
   "cell_type": "code",
   "execution_count": 114,
   "id": "c0e68201-bdd3-4580-ba02-0ecda010762c",
   "metadata": {},
   "outputs": [
    {
     "name": "stdout",
     "output_type": "stream",
     "text": [
      "25/25 [==============================] - 1s 46ms/step - loss: 0.1977 - accuracy: 0.9337\n"
     ]
    },
    {
     "data": {
      "text/html": [
       "<div>\n",
       "<style scoped>\n",
       "    .dataframe tbody tr th:only-of-type {\n",
       "        vertical-align: middle;\n",
       "    }\n",
       "\n",
       "    .dataframe tbody tr th {\n",
       "        vertical-align: top;\n",
       "    }\n",
       "\n",
       "    .dataframe thead th {\n",
       "        text-align: right;\n",
       "    }\n",
       "</style>\n",
       "<table border=\"1\" class=\"dataframe\">\n",
       "  <thead>\n",
       "    <tr style=\"text-align: right;\">\n",
       "      <th></th>\n",
       "      <th>Accuracy</th>\n",
       "      <th>Model</th>\n",
       "    </tr>\n",
       "  </thead>\n",
       "  <tbody>\n",
       "    <tr>\n",
       "      <th>0</th>\n",
       "      <td>0.969</td>\n",
       "      <td>CNN</td>\n",
       "    </tr>\n",
       "    <tr>\n",
       "      <th>1</th>\n",
       "      <td>0.934</td>\n",
       "      <td>LSTM</td>\n",
       "    </tr>\n",
       "    <tr>\n",
       "      <th>2</th>\n",
       "      <td>0.934</td>\n",
       "      <td>LSTM</td>\n",
       "    </tr>\n",
       "  </tbody>\n",
       "</table>\n",
       "</div>"
      ],
      "text/plain": [
       "   Accuracy Model\n",
       "0     0.969   CNN\n",
       "1     0.934  LSTM\n",
       "2     0.934  LSTM"
      ]
     },
     "execution_count": 114,
     "metadata": {},
     "output_type": "execute_result"
    }
   ],
   "source": [
    "result_dl = result_dl.append({\n",
    "                'Model': 'LSTM',\n",
    "                'Accuracy': lstm_model.evaluate(validation_padded, y_test)[1]},\n",
    "                ignore_index=True)\n",
    "result_dl"
   ]
  },
  {
   "cell_type": "markdown",
   "id": "52120415-8824-450f-bd6d-90f00bea13e6",
   "metadata": {},
   "source": [
    "Test Etme"
   ]
  },
  {
   "cell_type": "code",
   "execution_count": 125,
   "id": "13b7c98f-81ab-4476-932f-c766629564b1",
   "metadata": {},
   "outputs": [],
   "source": [
    "def test_models_on_tweet(tweet):\n",
    "    # Veri önişleme\n",
    "    tweet = clean_text(tweet)\n",
    "    tweet = tweet.lower()\n",
    "    tweet = \" \".join(x for x in tweet.split() if x not in ineffective)\n",
    "    \n",
    "    # Vectorize\n",
    "    tweet_tf = tf_vector.transform([tweet])\n",
    "    tweet_ct = ct_vector.transform([tweet])\n",
    "    \n",
    "    # Makine öğrenmesi modellerinde test\n",
    "    nb_tf_pred_proba = nb_tf.predict_proba(tweet_tf)[0]\n",
    "    nb_tf_pred = nb_tf_pred_proba.argmax()\n",
    "    nb_ct_pred_proba = nb_ct.predict_proba(tweet_ct)[0]\n",
    "    nb_ct_pred = nb_ct_pred_proba.argmax()\n",
    "    \n",
    "    svc_tf_pred_proba = svc_tf.decision_function(tweet_tf)[0]\n",
    "    svc_tf_pred = svc_tf_pred_proba.argmax()\n",
    "    svc_ct_pred_proba = svc_ct.decision_function(tweet_ct)[0]\n",
    "    svc_ct_pred = svc_ct_pred_proba.argmax()\n",
    "    \n",
    "    # Derin öğrenme modelleri için tweet'i diziye dönüştürme\n",
    "    tweet_seq = tokenizer.texts_to_sequences([tweet])\n",
    "    tweet_padded = pad_sequences(tweet_seq, maxlen=max_length)\n",
    "    \n",
    "    # Derin öğrenme modellerinde test\n",
    "    cnn_pred_proba = cnn_model.predict(tweet_padded)[0]\n",
    "    cnn_pred = cnn_pred_proba.argmax()\n",
    "    lstm_pred_proba = lstm_model.predict(tweet_padded)[0]\n",
    "    lstm_pred = lstm_pred_proba.argmax()\n",
    "    \n",
    "    # Tahminleri sayılardan etiketlere dönüştürme\n",
    "    sentiment_dict = {0: \"kızgın\", 1: \"korku\", 2: \"mutlu\", 3: \"surpriz\", 4: \"üzgün\"}\n",
    "    \n",
    "    # Tahminleri ve model isimlerini döndürme\n",
    "    return {\n",
    "        \"Naive Bayes (TF Vectorizer)\": (sentiment_dict[nb_tf_pred], nb_tf_pred_proba[nb_tf_pred]),\n",
    "        \"Naive Bayes (Count Vectorizer)\": (sentiment_dict[nb_ct_pred], nb_ct_pred_proba[nb_ct_pred]), \n",
    "        \"Support Vector Machine (TF Vectorizer)\": (sentiment_dict[svc_tf_pred], svc_tf_pred_proba[svc_tf_pred]),\n",
    "        \"Support Vector Machine (Count Vectorizer)\": (sentiment_dict[svc_ct_pred], svc_ct_pred_proba[svc_ct_pred]),\n",
    "        \"CNN\": (sentiment_dict[cnn_pred], cnn_pred_proba[cnn_pred]),\n",
    "        \"LSTM\": (sentiment_dict[lstm_pred], lstm_pred_proba[lstm_pred])\n",
    "    }\n"
   ]
  },
  {
   "cell_type": "code",
   "execution_count": 126,
   "id": "a8198bf6-f4b1-445d-9d5f-9faf4619daca",
   "metadata": {},
   "outputs": [
    {
     "name": "stdout",
     "output_type": "stream",
     "text": [
      "1/1 [==============================] - 0s 71ms/step\n",
      "1/1 [==============================] - 0s 75ms/step\n",
      "{'Naive Bayes (TF Vectorizer)': ('surpriz', 0.5595482888076672), 'Naive Bayes (Count Vectorizer)': ('surpriz', 0.5595482888076672), 'Support Vector Machine (TF Vectorizer)': ('surpriz', 4.207364748934849), 'Support Vector Machine (Count Vectorizer)': ('surpriz', 4.227366447023404), 'CNN': ('surpriz', 0.99849474), 'LSTM': ('surpriz', 0.9786436)}\n"
     ]
    }
   ],
   "source": [
    "tweet = \"Offf çok şaşkınım nasıl böyle bir karar verebilirler ya üzüntüden ağlayacağım\"\n",
    "predictions = test_models_on_tweet(tweet)\n",
    "print(predictions)\n"
   ]
  },
  {
   "cell_type": "code",
   "execution_count": null,
   "id": "fec52dce-6eb6-46b6-b118-7a791ddb86a2",
   "metadata": {},
   "outputs": [],
   "source": []
  }
 ],
 "metadata": {
  "kernelspec": {
   "display_name": "Python 3 (ipykernel)",
   "language": "python",
   "name": "python3"
  },
  "language_info": {
   "codemirror_mode": {
    "name": "ipython",
    "version": 3
   },
   "file_extension": ".py",
   "mimetype": "text/x-python",
   "name": "python",
   "nbconvert_exporter": "python",
   "pygments_lexer": "ipython3",
   "version": "3.9.12"
  },
  "toc-autonumbering": true,
  "toc-showcode": true,
  "toc-showmarkdowntxt": true,
  "toc-showtags": false
 },
 "nbformat": 4,
 "nbformat_minor": 5
}
